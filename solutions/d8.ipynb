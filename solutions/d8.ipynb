{
 "cells": [
  {
   "cell_type": "markdown",
   "metadata": {},
   "source": [
    "# Advent of code 2022 Day 8"
   ]
  },
  {
   "cell_type": "code",
   "execution_count": 188,
   "metadata": {},
   "outputs": [],
   "source": [
    "test_input = \"\"\"30373\n",
    "25512\n",
    "65332\n",
    "33549\n",
    "35390\"\"\"\n",
    "data = []\n",
    "for line in test_input.split(\"\\n\"):\n",
    "    _tmp = []\n",
    "    for char in line:\n",
    "        _tmp.append(int(char))\n",
    "    data.append(_tmp)\n"
   ]
  },
  {
   "cell_type": "code",
   "execution_count": 206,
   "metadata": {},
   "outputs": [],
   "source": [
    "data = []\n",
    "with open(\"C:\\\\Repos\\\\AoC22\\\\input\\\\input8.txt\", \"r\") as f:\n",
    "    for line in f:\n",
    "        _tmp = []\n",
    "        for char in line.strip():\n",
    "            _tmp.append(int(char))\n",
    "        data.append(_tmp)"
   ]
  },
  {
   "cell_type": "code",
   "execution_count": 203,
   "metadata": {},
   "outputs": [],
   "source": [
    "def am_i_visible(data, x, y):\n",
    "    size = data[y][x]\n",
    "    left = max(data[y][:x])\n",
    "    right = max(data[y][x+1:])\n",
    "\n",
    "    column = []\n",
    "    for _y in data:\n",
    "        column.append(_y[x])\n",
    "    top = max(column[:y])\n",
    "    bot = max(column[y+1:])\n",
    "\n",
    "    if size > left or size > right or size > top or size > bot:\n",
    "        return 1\n",
    "    return 0\n"
   ]
  },
  {
   "cell_type": "code",
   "execution_count": 213,
   "metadata": {},
   "outputs": [
    {
     "name": "stdout",
     "output_type": "stream",
     "text": [
      "1560\n"
     ]
    }
   ],
   "source": [
    "y_length = len(data)\n",
    "x_length = len(data[0])\n",
    "calc = 0\n",
    "\n",
    "for y in range(1, y_length-1):  \n",
    "    sub_map = [1]\n",
    "    for x in range(1, x_length-1):\n",
    "        sub_val = am_i_visible(data, x, y)\n",
    "        sub_map.append(sub_val) \n",
    "        calc += sub_val\n",
    "\n",
    "print(calc + y_length*2 + x_length*2 - 4)\n",
    "\n"
   ]
  },
  {
   "cell_type": "markdown",
   "metadata": {},
   "source": [
    "Part 2"
   ]
  },
  {
   "cell_type": "code",
   "execution_count": 211,
   "metadata": {},
   "outputs": [],
   "source": [
    "def how_far_can_i_see(sight, size):\n",
    "    account = 0\n",
    "    for val in sight:\n",
    "        account += 1\n",
    "        if size <= val:\n",
    "            return account\n",
    "    return account\n",
    "\n",
    "def scenic_score(data, x, y):\n",
    "    size = data[y][x]\n",
    "    count = 1\n",
    "    \n",
    "    left = data[y][:x]\n",
    "    left.reverse()\n",
    "    count *= how_far_can_i_see(left, size)\n",
    "    \n",
    "    right = data[y][x+1:]\n",
    "    count *= how_far_can_i_see(right, size)\n",
    "\n",
    "    column = []\n",
    "    for _y in data:\n",
    "        column.append(_y[x])\n",
    "    \n",
    "\n",
    "    top = column[:y]\n",
    "    top.reverse()\n",
    "    count *= how_far_can_i_see(top, size)\n",
    "\n",
    "    bot = column[y+1:]\n",
    "    count *= how_far_can_i_see(bot, size)\n",
    "    return count"
   ]
  },
  {
   "cell_type": "code",
   "execution_count": 212,
   "metadata": {},
   "outputs": [
    {
     "name": "stdout",
     "output_type": "stream",
     "text": [
      "252000\n"
     ]
    }
   ],
   "source": [
    "y_length = len(data)\n",
    "x_length = len(data[0])\n",
    "calc = 0\n",
    "\n",
    "for y in range(1, y_length-1):  \n",
    "    for x in range(1, x_length-1):\n",
    "        sub_val = scenic_score(data, x, y)\n",
    "        if sub_val > calc:\n",
    "            calc = sub_val\n",
    "\n",
    "print(calc)\n",
    "    "
   ]
  }
 ],
 "metadata": {
  "kernelspec": {
   "display_name": "Python 3.9.12 64-bit",
   "language": "python",
   "name": "python3"
  },
  "language_info": {
   "codemirror_mode": {
    "name": "ipython",
    "version": 3
   },
   "file_extension": ".py",
   "mimetype": "text/x-python",
   "name": "python",
   "nbconvert_exporter": "python",
   "pygments_lexer": "ipython3",
   "version": "3.9.12"
  },
  "orig_nbformat": 4,
  "vscode": {
   "interpreter": {
    "hash": "11938c6bc6919ae2720b4d5011047913343b08a43b18698fd82dedb0d4417594"
   }
  }
 },
 "nbformat": 4,
 "nbformat_minor": 2
}
