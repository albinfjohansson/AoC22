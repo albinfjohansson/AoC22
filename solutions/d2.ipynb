{
 "cells": [
  {
   "cell_type": "code",
   "execution_count": 8,
   "metadata": {},
   "outputs": [
    {
     "name": "stdout",
     "output_type": "stream",
     "text": [
      "14264\n",
      "12382\n"
     ]
    }
   ],
   "source": [
    "data = []\n",
    "with open(\"C:\\\\Repos\\\\AoC22\\\\input\\\\input2.txt\", 'r') as f:\n",
    "    input = f.read()\n",
    "    data = [x.split(\" \") for x in input.split(\"\\n\")]\n",
    "\n",
    "ttt_val = {\"A\":1 ,\"B\":2, \"C\":3}\n",
    "ttt_trans = {\"X\":\"A\", \"Y\":\"B\", \"Z\":\"C\"}\n",
    "ttt_win = {\"AA\":3, \"AB\": 0, \"AC\":6, \n",
    "            \"BA\":6, \"BB\":3, \"BC\":0,\n",
    "            \"CA\":0, \"CB\":6, \"CC\":3}\n",
    "count = 0\n",
    "for elf, me, in data:\n",
    "    opt = ttt_trans[me]\n",
    "    count += ttt_val[opt] + ttt_win[str(opt+elf)]\n",
    "print(count)\n",
    "    \n",
    "ttt_trans_back =   {\"XA\":\"C\", \"YA\":\"A\", \"ZA\":\"B\",\n",
    "                    \"XB\":\"A\", \"YB\":\"B\", \"ZB\":\"C\",\n",
    "                    \"XC\":\"B\", \"YC\":\"C\", \"ZC\":\"A\"}\n",
    "\n",
    "count2 = 0\n",
    "\n",
    "for elf, me in data:\n",
    "    opt = ttt_trans_back[str(me+elf)]\n",
    "    count2 += ttt_val[opt] + ttt_win[str(opt+elf)]\n",
    "\n",
    "print(count2)   \n",
    "# val = ttt_val[ttt_trans[val]]\n"
   ]
  }
 ],
 "metadata": {
  "kernelspec": {
   "display_name": "Python 3.9.12 64-bit",
   "language": "python",
   "name": "python3"
  },
  "language_info": {
   "codemirror_mode": {
    "name": "ipython",
    "version": 3
   },
   "file_extension": ".py",
   "mimetype": "text/x-python",
   "name": "python",
   "nbconvert_exporter": "python",
   "pygments_lexer": "ipython3",
   "version": "3.9.12"
  },
  "orig_nbformat": 4,
  "vscode": {
   "interpreter": {
    "hash": "11938c6bc6919ae2720b4d5011047913343b08a43b18698fd82dedb0d4417594"
   }
  }
 },
 "nbformat": 4,
 "nbformat_minor": 2
}
