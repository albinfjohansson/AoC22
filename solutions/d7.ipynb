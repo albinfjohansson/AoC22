{
 "cells": [
  {
   "cell_type": "code",
   "execution_count": 1,
   "metadata": {},
   "outputs": [],
   "source": [
    "test_input = \"\"\"$ cd /\n",
    "$ ls\n",
    "dir a\n",
    "14848514 b.txt\n",
    "8504156 c.dat\n",
    "dir d\n",
    "$ cd a\n",
    "$ ls\n",
    "dir e\n",
    "29116 f\n",
    "2557 g\n",
    "62596 h.lst\n",
    "$ cd e\n",
    "$ ls\n",
    "584 i\n",
    "$ cd ..\n",
    "$ cd ..\n",
    "$ cd d\n",
    "$ ls\n",
    "4060174 j\n",
    "8033020 d.log\n",
    "5626152 d.ext\n",
    "7214296 k\"\"\""
   ]
  },
  {
   "cell_type": "code",
   "execution_count": 38,
   "metadata": {},
   "outputs": [],
   "source": [
    "input = \"\"\n",
    "with open(\"C:\\\\Repos\\\\AoC22\\\\input\\\\input7.txt\", \"r\") as f:\n",
    "    input = f.read()"
   ]
  },
  {
   "cell_type": "code",
   "execution_count": 72,
   "metadata": {},
   "outputs": [],
   "source": [
    "class Node():\n",
    "\n",
    "    def __init__(self, name, parent):\n",
    "        self.name = name\n",
    "        self.parent = parent\n",
    "        self.files = []\n",
    "        self.dir = []\n",
    "        self.size = -1\n",
    "    \n",
    "    def print_values(self):\n",
    "        if self.parent:\n",
    "            print(f\"Name = {self.name}, parent = {self.parent.name}, size = {self.size}\")\n",
    "        else: \n",
    "            print(f\"Name = {self.name}, parent = {self.parent}, size = {self.size}\")\n",
    "        print(f\"contains files = {self.files}\")\n",
    "        print(f\"contains dirs = {[x.name for x in self.dir]}\")\n",
    "\n",
    "def get_node_by_name(name, node_list):\n",
    "    for _node in node_list:\n",
    "        if _node.name == name:\n",
    "            return _node\n",
    "    return None\n",
    "\n",
    "def calculate_size(node):\n",
    "    count = 0\n",
    "    for file in node.files:\n",
    "        count += int(file[1])\n",
    "    if node.dir:\n",
    "        for new_node in node.dir:\n",
    "            count += calculate_size(new_node)\n",
    "    node.size = count\n",
    "    if count == 0:\n",
    "        node.print_values()\n",
    "    return count"
   ]
  },
  {
   "cell_type": "code",
   "execution_count": 74,
   "metadata": {},
   "outputs": [
    {
     "name": "stdout",
     "output_type": "stream",
     "text": [
      "1582412\n"
     ]
    }
   ],
   "source": [
    "data = input.split(\"\\n\")\n",
    "current_node = Node(\"/\", None)\n",
    "node_list = [current_node]\n",
    "\n",
    "for line in data[1:]:\n",
    "    if \"$ cd\" in line:\n",
    "        _, _, new_node_name = line.split(\" \")\n",
    "        if \"..\" == new_node_name:\n",
    "            current_node = current_node.parent\n",
    "        else:\n",
    "            current_node = get_node_by_name(new_node_name, current_node.dir)\n",
    "    elif \"$ ls\" in line:\n",
    "        pass\n",
    "    else:\n",
    "        part1, part2 = (line.split(\" \"))\n",
    "        if part1 == \"dir\":\n",
    "            new_node = Node(part2, current_node)\n",
    "            node_list.append(new_node)\n",
    "            current_node.dir.append(new_node)\n",
    "        else:\n",
    "            current_node.files.append((part2, part1))\n",
    "\n",
    "calculate_size(node_list[0])\n",
    "\n",
    "\n",
    "\n",
    "sum_of_nodes = 0\n",
    "for node in node_list:\n",
    "    if  node.size <= 100000:\n",
    "        sum_of_nodes += node.size\n",
    "\n",
    "print(sum_of_nodes)"
   ]
  },
  {
   "cell_type": "code",
   "execution_count": 80,
   "metadata": {},
   "outputs": [
    {
     "name": "stdout",
     "output_type": "stream",
     "text": [
      "3696336\n",
      "3598596\n"
     ]
    }
   ],
   "source": [
    "space_to_remove = node_list[0].size - 70000000 + 30000000\n",
    "\n",
    "current_node_to_remove = node_list[0]\n",
    "\n",
    "for node in node_list:\n",
    "    if (node.size > space_to_remove and node.size < current_node_to_remove.size):\n",
    "        current_node_to_remove = node\n",
    "print(current_node_to_remove.size)\n",
    "print(space_to_remove)"
   ]
  }
 ],
 "metadata": {
  "kernelspec": {
   "display_name": "Python 3.9.12 64-bit",
   "language": "python",
   "name": "python3"
  },
  "language_info": {
   "codemirror_mode": {
    "name": "ipython",
    "version": 3
   },
   "file_extension": ".py",
   "mimetype": "text/x-python",
   "name": "python",
   "nbconvert_exporter": "python",
   "pygments_lexer": "ipython3",
   "version": "3.9.12"
  },
  "orig_nbformat": 4,
  "vscode": {
   "interpreter": {
    "hash": "11938c6bc6919ae2720b4d5011047913343b08a43b18698fd82dedb0d4417594"
   }
  }
 },
 "nbformat": 4,
 "nbformat_minor": 2
}
