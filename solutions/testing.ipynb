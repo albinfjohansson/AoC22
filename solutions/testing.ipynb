{
 "cells": [
  {
   "cell_type": "code",
   "execution_count": 57,
   "metadata": {},
   "outputs": [],
   "source": [
    "data = []\n",
    "with open(\"C:\\\\Repos\\\\AoC22\\\\input\\\\input9.txt\", \"r\") as f:\n",
    "    input = f.read()\n",
    "    data = [x.split(\" \") for x in input.split(\"\\n\")]\n",
    "\n"
   ]
  },
  {
   "cell_type": "code",
   "execution_count": 44,
   "metadata": {},
   "outputs": [],
   "source": [
    "test_input = \"\"\"R 4\n",
    "U 4\n",
    "L 3\n",
    "D 1\n",
    "R 4\n",
    "D 1\n",
    "L 5\n",
    "R 2\"\"\"\n",
    "\n",
    "data = [x.split(\" \") for x in test_input.split(\"\\n\")]"
   ]
  },
  {
   "cell_type": "code",
   "execution_count": 54,
   "metadata": {},
   "outputs": [],
   "source": [
    "\n",
    "orientation = {\"L\":(-1, 0), \"R\":(1, 0), \"U\":(0, 1), \"D\":(0, -1)}\n",
    "\n",
    "def translate_data_to_cord(d):   \n",
    "    x, y = 0, 0\n",
    "    pos = [(x,y)]\n",
    "    for org, val in d:\n",
    "        move_x, move_y = orientation[org]\n",
    "        for _ in range(int(val)):\n",
    "            x += move_x\n",
    "            y += move_y\n",
    "            pos.append((x,y))\n",
    "\n",
    "    return pos\n",
    "\n",
    "def sign(a, b):\n",
    "    if a > b:\n",
    "        return 1\n",
    "    elif b > a:\n",
    "        return -1\n",
    "    return 0\n",
    "\n",
    "def move(route):\n",
    "    x, y = 0, 0\n",
    "    trail = []\n",
    "    for haed in route:\n",
    "        h_x = haed[0]\n",
    "        h_y = haed[1]\n",
    "        if abs(h_x - x) > 1:\n",
    "            x += sign(h_x, x)\n",
    "            if abs(h_y-y) >= 1:\n",
    "                y += sign(h_y, y)\n",
    "        elif abs(h_y - y) > 1:\n",
    "            y += sign(h_y, y)\n",
    "            if abs(h_x-x) >= 1:\n",
    "                x += sign(h_x, x)\n",
    "        trail.append((x,y))\n",
    "    return trail\n",
    "\n",
    "    "
   ]
  },
  {
   "cell_type": "markdown",
   "metadata": {},
   "source": [
    "Part 1"
   ]
  },
  {
   "cell_type": "code",
   "execution_count": 41,
   "metadata": {},
   "outputs": [
    {
     "name": "stdout",
     "output_type": "stream",
     "text": [
      "6037\n"
     ]
    }
   ],
   "source": [
    "\n",
    "cordinates = translate_data_to_cord(data) \n",
    "trail = move(cordinates)\n",
    "print(len(set(trail)))"
   ]
  },
  {
   "cell_type": "markdown",
   "metadata": {},
   "source": [
    "Part 2"
   ]
  },
  {
   "cell_type": "code",
   "execution_count": 3,
   "metadata": {},
   "outputs": [],
   "source": [
    "input = \"\"\"R 5\n",
    "U 8\n",
    "L 8\n",
    "D 3\n",
    "R 17\n",
    "D 10\n",
    "L 25\n",
    "U 20\"\"\"\n",
    "\n",
    "_data = [x.split(\" \") for x in input.split(\"\\n\")]"
   ]
  },
  {
   "cell_type": "code",
   "execution_count": 58,
   "metadata": {},
   "outputs": [
    {
     "name": "stdout",
     "output_type": "stream",
     "text": [
      "2485\n"
     ]
    }
   ],
   "source": [
    "\n",
    "current_path = translate_data_to_cord(data)\n",
    "alls = []\n",
    "for _ in range(9):\n",
    "\n",
    "    current_path = move(current_path)\n",
    "    alls.append(current_path)\n",
    "\n",
    "print(len(set(current_path)))\n"
   ]
  }
 ],
 "metadata": {
  "kernelspec": {
   "display_name": "Python 3.9.12 64-bit",
   "language": "python",
   "name": "python3"
  },
  "language_info": {
   "codemirror_mode": {
    "name": "ipython",
    "version": 3
   },
   "file_extension": ".py",
   "mimetype": "text/x-python",
   "name": "python",
   "nbconvert_exporter": "python",
   "pygments_lexer": "ipython3",
   "version": "3.9.12"
  },
  "orig_nbformat": 4,
  "vscode": {
   "interpreter": {
    "hash": "11938c6bc6919ae2720b4d5011047913343b08a43b18698fd82dedb0d4417594"
   }
  }
 },
 "nbformat": 4,
 "nbformat_minor": 2
}
